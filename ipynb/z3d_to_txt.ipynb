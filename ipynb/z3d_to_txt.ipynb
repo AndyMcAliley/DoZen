{
 "cells": [
  {
   "cell_type": "markdown",
   "metadata": {},
   "source": [
    "# Convert a z3d file to a txt file"
   ]
  },
  {
   "cell_type": "markdown",
   "metadata": {},
   "source": [
    "## 1: Import modules"
   ]
  },
  {
   "cell_type": "code",
   "execution_count": null,
   "metadata": {},
   "outputs": [],
   "source": [
    "import sys, os\n",
    "import numpy as np\n",
    "import pandas as pd"
   ]
  },
  {
   "cell_type": "markdown",
   "metadata": {},
   "source": [
    "Get the path to the DoZen folder, which in this case is in the parent directory. Add DoZen to the path, so that we can import it"
   ]
  },
  {
   "cell_type": "code",
   "execution_count": null,
   "metadata": {},
   "outputs": [],
   "source": [
    "module_path = os.path.abspath(os.path.join('..'))\n",
    "print(module_path)"
   ]
  },
  {
   "cell_type": "code",
   "execution_count": null,
   "metadata": {},
   "outputs": [],
   "source": [
    "if module_path not in sys.path:\n",
    "    sys.path.append(module_path)"
   ]
  },
  {
   "cell_type": "markdown",
   "metadata": {},
   "source": [
    "At some point, I'll make DoZen importable with one line. In the meantime, import .py files as separate modules."
   ]
  },
  {
   "cell_type": "code",
   "execution_count": null,
   "metadata": {},
   "outputs": [],
   "source": [
    "# import DoZen functions\n",
    "import z3dio\n",
    "import timeio\n",
    "import z3d_directory\n",
    "import process"
   ]
  },
  {
   "cell_type": "markdown",
   "metadata": {},
   "source": [
    "## 2. Specify filepaths"
   ]
  },
  {
   "cell_type": "code",
   "execution_count": null,
   "metadata": {},
   "outputs": [],
   "source": [
    "#Enter the path to the z3d file.\n",
    "z3d_path='/path/to/z3d_file.z3d'\n",
    "# path to directory containing all calibration files\n",
    "cal_dir = '/calibration_dir/'\n",
    "# path to antenna.cal\n",
    "antcal_file = '/path/to/antenna.cal'\n",
    "# path to output text file\n",
    "z3d_txt = '/path/to/calibrated.txt'"
   ]
  },
  {
   "cell_type": "markdown",
   "metadata": {},
   "source": [
    "## 3. Read z3d file"
   ]
  },
  {
   "cell_type": "code",
   "execution_count": null,
   "metadata": {},
   "outputs": [],
   "source": [
    "#Read the file contents.\n",
    "z3d = z3dio.read_z3d(z3d_path)\n",
    "print(z3d.keys())"
   ]
  },
  {
   "cell_type": "markdown",
   "metadata": {},
   "source": [
    "The z3d object has a lot of info in it: metadata, data, times (only one per second), plus some other stuff"
   ]
  },
  {
   "cell_type": "markdown",
   "metadata": {},
   "source": [
    "## 4. Create array of timestamps"
   ]
  },
  {
   "cell_type": "markdown",
   "metadata": {},
   "source": [
    "Since gps_times are only once per second, we have to make our own array if we want every time in it"
   ]
  },
  {
   "cell_type": "code",
   "execution_count": null,
   "metadata": {},
   "outputs": [],
   "source": [
    "if z3d['num_records']==0:\n",
    "    valid = False\n",
    "else:\n",
    "    [dt_start,dt_end] = timeio.get_start_and_end_times_mountain(z3d,include_final_second=True,astype='timestamp')\n",
    "    dt_times = pd.date_range(start=dt_start, \n",
    "                             end=dt_end, \n",
    "                             periods=len(z3d['data'])\n",
    "                            )\n",
    "    print(dt_times)"
   ]
  },
  {
   "cell_type": "markdown",
   "metadata": {},
   "source": [
    "dt_times is a pandas DatetimeIndex. It is timezone-aware. It's just an evenly spaced array of timestamps. Writing it out to text will take a lot of space, though. Only write it to text if you need it."
   ]
  },
  {
   "cell_type": "markdown",
   "metadata": {},
   "source": [
    "## 5. Apply calibrations."
   ]
  },
  {
   "cell_type": "markdown",
   "metadata": {},
   "source": [
    "Read in all calibration files. There is a separate calibration file per Zen, and one master file for all mag antennas."
   ]
  },
  {
   "cell_type": "code",
   "execution_count": null,
   "metadata": {},
   "outputs": [],
   "source": [
    "# Read calibration files\n",
    "# set ask_dir to True if you want to browse to the directory\n",
    "cals = z3d_directory.read_zen_cals(cal_dir,ask_dir=False)\n",
    "antcal = z3dio.read_antcal(antcal_file)"
   ]
  },
  {
   "cell_type": "markdown",
   "metadata": {},
   "source": [
    "To apply calibrations, we'll need to move into the Fourier domain first."
   ]
  },
  {
   "cell_type": "code",
   "execution_count": null,
   "metadata": {},
   "outputs": [],
   "source": [
    "# must first interpolate over nan values in order to Fourier transform\n",
    "data = z3d['data'].copy()\n",
    "# ignore the first two seconds and the last second, which usually have nan values\n",
    "data = data[8192:-4096]\n",
    "times = dt_times[8192:-4096]\n",
    "# check for nans\n",
    "nans = np.isnan(data)\n",
    "print(np.sum(nans),' NaN values')\n",
    "if np.sum(nans)>0:\n",
    "    # interpolate over nans\n",
    "    ttt = lambda z: z.nonzero()[0]\n",
    "    data[nans] = np.interp(ttt(nans),ttt(~nans),z3d['data'][~nans])"
   ]
  },
  {
   "cell_type": "code",
   "execution_count": null,
   "metadata": {},
   "outputs": [],
   "source": [
    "# compute Fourier transform for real input\n",
    "sampling_rate = z3d['metadata']['A/D Rate']\n",
    "ft = np.fft.rfft(data)\n",
    "freqs = np.fft.rfftfreq(len(data),1./sampling_rate)"
   ]
  },
  {
   "cell_type": "markdown",
   "metadata": {},
   "source": [
    "Now, find the right calibrations, and apply them."
   ]
  },
  {
   "cell_type": "code",
   "execution_count": null,
   "metadata": {},
   "outputs": [],
   "source": [
    "# get metadata from z3d object\n",
    "box_number = z3d['metadata']['Box number']\n",
    "card_number = z3d['metadata']['ChannelSerial']\n",
    "component = z3d['metadata']['CH.CMP']\n",
    "# find the calibration for this Zen box number\n",
    "zen_cal = cals.loc[box_number]\n",
    "# apply the board calibration\n",
    "ft_boardcal = process.apply_board_cal(ft,freqs,zen_cal,card_number,sampling_rate)\n",
    "\n",
    "# apply mag antenna calibration, if applicable\n",
    "if component[0] == 'H':\n",
    "    antenna_number = z3d['metadata']['CH.ANTSN']\n",
    "    ft_cal = process.apply_antenna_cal(ft_boardcal,freqs,antcal,antenna_number)\n",
    "    # replace nan at zero-frequency with board calibrated value\n",
    "    #ft_cal[0] = ft_boardcal[0]\n",
    "    ft_cal[0] = 0\n",
    "else:\n",
    "    ft_cal = ft_boardcal\n",
    "    \n",
    "# inverse Fourier transform\n",
    "data_cal = np.fft.irfft(ft_cal,len(data))"
   ]
  },
  {
   "cell_type": "markdown",
   "metadata": {},
   "source": [
    "# Write calibrated time series to a text file"
   ]
  },
  {
   "cell_type": "code",
   "execution_count": null,
   "metadata": {},
   "outputs": [],
   "source": [
    "np.savetxt(z3d_txt,data_cal)"
   ]
  },
  {
   "cell_type": "markdown",
   "metadata": {},
   "source": [
    "Resulting text file is about 92 MB, up from 14 to start."
   ]
  },
  {
   "cell_type": "markdown",
   "metadata": {},
   "source": [
    "# Visualize"
   ]
  },
  {
   "cell_type": "markdown",
   "metadata": {},
   "source": [
    "The rest of this notebook requires pyviz to be installed."
   ]
  },
  {
   "cell_type": "markdown",
   "metadata": {},
   "source": [
    "Let's see what we have!"
   ]
  },
  {
   "cell_type": "code",
   "execution_count": null,
   "metadata": {},
   "outputs": [],
   "source": [
    "print(min(data),max(data))"
   ]
  },
  {
   "cell_type": "code",
   "execution_count": null,
   "metadata": {},
   "outputs": [],
   "source": [
    "print(min(data_cal),max(data_cal))"
   ]
  },
  {
   "cell_type": "markdown",
   "metadata": {},
   "source": [
    "Minimum and maximum values don't agree well. That's because the mag calibration also converts from Volts to microTesla, which ratio is as much as 100:1"
   ]
  },
  {
   "cell_type": "markdown",
   "metadata": {},
   "source": [
    "Let's plot the time series before and after calibration:"
   ]
  },
  {
   "cell_type": "code",
   "execution_count": null,
   "metadata": {},
   "outputs": [],
   "source": [
    "import holoviews as hv\n",
    "from holoviews.operation.datashader import datashade, shade, dynspread\n",
    "from bokeh.models.formatters import DatetimeTickFormatter\n",
    "import panel as pn\n",
    "import viz\n",
    "hv.notebook_extension('bokeh','matplotlib')\n",
    "pn.extension()\n",
    "\n",
    "def verbose_formatter():\n",
    "    vf = DatetimeTickFormatter()\n",
    "    vf.microseconds = ['%f us']\n",
    "    vf.milliseconds = ['%S.%3N s']\n",
    "    # vf.milliseconds = ['%H:%M:%S.%3N']\n",
    "    vf.seconds = ['%H:%M:%S']\n",
    "    vf.minsec = ['%H:%M:%S']\n",
    "    vf.minutes = ['%m/%d %H:%M']\n",
    "    vf.hourmin = ['%m/%d %H:%M']\n",
    "    vf.hours = ['%m/%d %H:%M']\n",
    "    vf.days = ['%m/%d', '%a%d']\n",
    "    vf.months = ['%m/%Y', '%b %Y']\n",
    "    vf.years = ['%Y']\n",
    "    return vf\n",
    "\n",
    "\n",
    "ts_tools = ['save','pan','xwheel_zoom','box_zoom','undo','reset']\n",
    "time = hv.Dimension('time',label='Time')\n",
    "signal = hv.Dimension('signal',label='Signal',unit='V')\n",
    "craw = hv.Curve((times,data),time,signal)\n",
    "draw = dynspread(datashade(craw).opts(#framewise=True,\n",
    "                                       xformatter=verbose_formatter(),\n",
    "                                       default_tools=ts_tools)\n",
    "                                      )\n",
    "ccal = hv.Curve((times,data_cal*100),time,signal)\n",
    "dcal = dynspread(datashade(ccal).opts(#framewise=True,\n",
    "                                       xformatter=verbose_formatter(),\n",
    "                                       default_tools=ts_tools)\n",
    "                                      )\n",
    "q = hv.Layout(draw+dcal).cols(1)\n",
    "pn.Column(q)"
   ]
  },
  {
   "cell_type": "markdown",
   "metadata": {},
   "source": [
    "Hmm. There's ringing at the start and end of the signal; to be expected. Also, the calibrated time signal looks much less smooth. Maybe that's just because the mag calibration is so dramatic? Let's plot that calibration."
   ]
  },
  {
   "cell_type": "code",
   "execution_count": null,
   "metadata": {},
   "outputs": [],
   "source": [
    "import hvplot.pandas"
   ]
  },
  {
   "cell_type": "code",
   "execution_count": null,
   "metadata": {},
   "outputs": [],
   "source": [
    "byfreq = antcal.groupby(['antenna_sn','base_frequency']).sum()\n",
    "byfreq[['mag']].hvplot('base_frequency',logx=True,logy=True,groupby='antenna_sn',height=500)"
   ]
  },
  {
   "cell_type": "markdown",
   "metadata": {},
   "source": [
    "Frequencies below .03 and above 200 are being amplified by the calibration (calibrated signal = input / calibration, so frequencies are amplified where this plot has small values). That's what's changing the character of the time series - the low and high frequencies being amplified. Calibration curves are pretty similar across all coils. Let's look at the board calibration too, just to be safe."
   ]
  },
  {
   "cell_type": "code",
   "execution_count": null,
   "metadata": {},
   "outputs": [],
   "source": [
    "board_byfreq = cals.groupby(['CARDSNX','ADFREQ','CALFREQ']).sum()\n",
    "board_byfreq[['MAG']].hvplot('CALFREQ',logx=True,by='ADFREQ',groupby=['CARDSNX'],height=500,xlim=(.006,10000))"
   ]
  },
  {
   "cell_type": "markdown",
   "metadata": {},
   "source": [
    "Three curves, depending on sampling rate. Very little variance from card to card. Nyquist frequency for 4096 Hz sampling rate is 2048. Calibration magnitude at 2048 Hz is above 0.9, so this isn't what's causing the time series to look so strange."
   ]
  },
  {
   "cell_type": "markdown",
   "metadata": {},
   "source": [
    "How does the frequency content of the signal look before and after calibration?"
   ]
  },
  {
   "cell_type": "code",
   "execution_count": null,
   "metadata": {},
   "outputs": [],
   "source": [
    "frequency = hv.Dimension('frequency',label='Frequency')\n",
    "curve_ft = hv.Curve((np.log10(freqs[1:]),np.log10(np.abs(ft[1:]))),frequency,signal)\n",
    "dyn_ft = dynspread(datashade(curve_ft).opts(\n",
    "                                       width=500,\n",
    "                                       default_tools=ts_tools)\n",
    "                                      )\n",
    "curve_ft_cal = hv.Curve((np.log10(freqs[1:]),np.log10(np.abs(ft_cal[1:]))),frequency,signal)\n",
    "dyn_ft_cal = dynspread(datashade(curve_ft_cal).opts(\n",
    "                                       width=500,\n",
    "                                       default_tools=ts_tools)\n",
    "                                      )\n",
    "#curve_cal = byfreq.loc[2064].hvplot('base_frequency',logx=True,height=500)\n",
    "curve_cal = hv.Curve((np.log10(byfreq.loc[2064].index.values),np.log10(byfreq.loc[2064].mag.values)))\n",
    "q2 = hv.Layout((dyn_ft+dyn_ft_cal)*curve_cal).cols(1)\n",
    "pn.Column(q2)"
   ]
  },
  {
   "cell_type": "code",
   "execution_count": null,
   "metadata": {},
   "outputs": [],
   "source": [
    "byfreq.loc[2064].hvplot('base_frequency',logx=True,height=500)"
   ]
  },
  {
   "cell_type": "code",
   "execution_count": null,
   "metadata": {},
   "outputs": [],
   "source": []
  }
 ],
 "metadata": {
  "kernelspec": {
   "display_name": "dozen",
   "language": "python",
   "name": "dozen"
  },
  "language_info": {
   "codemirror_mode": {
    "name": "ipython",
    "version": 3
   },
   "file_extension": ".py",
   "mimetype": "text/x-python",
   "name": "python",
   "nbconvert_exporter": "python",
   "pygments_lexer": "ipython3",
   "version": "3.6.10"
  }
 },
 "nbformat": 4,
 "nbformat_minor": 4
}
