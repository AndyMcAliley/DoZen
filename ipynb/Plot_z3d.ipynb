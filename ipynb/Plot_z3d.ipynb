{
 "cells": [
  {
   "cell_type": "code",
   "execution_count": null,
   "metadata": {},
   "outputs": [],
   "source": [
    "from pandas import date_range\n",
    "from datetime import timedelta\n",
    "\n",
    "import panel as pn\n",
    "import holoviews as hv\n",
    "from holoviews.operation.datashader import datashade, dynspread\n",
    "from holoviews.streams import Params\n",
    "from bokeh.models.formatters import DatetimeTickFormatter\n",
    "from bokeh.models import tools as btools\n",
    "from bokeh.io import curdoc\n",
    "import param\n",
    "\n",
    "# add parent directory to path\n",
    "import os, sys\n",
    "module_path = os.path.abspath(os.path.join('..'))\n",
    "if module_path not in sys.path:\n",
    "    sys.path.append(module_path)\n",
    "\n",
    "import z3dio\n",
    "import timeio\n",
    "import z3d_directory\n",
    "import util\n",
    "import matplotlib\n",
    "matplotlib.use('TkAgg')"
   ]
  },
  {
   "cell_type": "code",
   "execution_count": null,
   "metadata": {},
   "outputs": [],
   "source": [
    "hv.notebook_extension('bokeh','matplotlib')\n",
    "pn.extension()"
   ]
  },
  {
   "cell_type": "code",
   "execution_count": null,
   "metadata": {},
   "outputs": [],
   "source": [
    "# plot settings\n",
    "# brenderer = renderer('bokeh')\n",
    "dynspread.max_px=20\n",
    "dynspread.threshold=0.5\n",
    "# shade.cmap=\"#30a2da\" # to match HV Bokeh default\n",
    "\n",
    "verbose_formatter = DatetimeTickFormatter()\n",
    "verbose_formatter.microseconds = ['%f us']\n",
    "verbose_formatter.milliseconds = ['%S.%3N s']\n",
    "# verbose_formatter.milliseconds = ['%H:%M:%S.%3N']\n",
    "verbose_formatter.seconds = ['%H:%M:%S']\n",
    "verbose_formatter.minsec = ['%H:%M:%S']\n",
    "verbose_formatter.minutes = ['%H:%M']\n",
    "verbose_formatter.hourmin = ['%H:%M']\n",
    "verbose_formatter.hours = ['%m/%d %H:%M']\n",
    "verbose_formatter.days = ['%m/%d', '%a%d']\n",
    "verbose_formatter.months = ['%m/%Y', '%b %Y']\n",
    "verbose_formatter.years = ['%Y']"
   ]
  },
  {
   "cell_type": "code",
   "execution_count": null,
   "metadata": {},
   "outputs": [],
   "source": [
    "def no_logo(plot, element):\n",
    "    # Don't plot the bokeh logo in the toolbar\n",
    "    plot.state.toolbar.logo = None"
   ]
  },
  {
   "cell_type": "code",
   "execution_count": null,
   "metadata": {},
   "outputs": [],
   "source": [
    "def get_ts(filename):\n",
    "    # Return a plottable holoviews object of the time series in filename\n",
    "    try:\n",
    "        z3d = z3dio.read_z3d(filename)\n",
    "        sampling_rate = z3d['metadata']['A/D Rate']\n",
    "        if 'TX.SENSE' in z3d['metadata']:\n",
    "            # NOTE: this only ids channel 1 TX files\n",
    "            station_type = 'TX'\n",
    "        else:\n",
    "            station_type = 'RX'\n",
    "        # These items were in schedule_info for RX\n",
    "        rx_station = z3d['metadata']['RX.STN']\n",
    "        channel_station = z3d['metadata']['CH.STN']\n",
    "        channel = z3d['metadata']['Channel']\n",
    "        component = z3d['metadata']['CH.CMP']\n",
    "        box_number = z3d['metadata']['Box number']\n",
    "        card_number = z3d['metadata']['ChannelSerial']\n",
    "        # summary['schedule_info'] = schedule_info\n",
    "        if z3d['metadata']['CH.CMP'][0] == 'H':\n",
    "            # mag field\n",
    "            antenna_number = z3d['metadata']['CH.ANTSN']\n",
    "        elif z3d['metadata']['CH.CMP'][0] == 'E':\n",
    "            # electric field\n",
    "            antenna_number = None\n",
    "        elif z3d['metadata']['CH.CMP'][0] == 'R':\n",
    "            # electric field, transmitter ref channel\n",
    "            antenna_number = None\n",
    "        else:\n",
    "            raise ValueError('CH.CMP not recognized as either E or H component')\n",
    "        if z3d['num_records']==0:\n",
    "            valid = False\n",
    "        else:\n",
    "            [dt_start,dt_end] = timeio.get_start_and_end_times_mountain(z3d)\n",
    "\n",
    "        dt_start_naive = dt_start.replace(tzinfo=None)\n",
    "        dt_end_naive = dt_end.replace(tzinfo=None)\n",
    "        # period = timedelta(seconds=1)/sampling_rate\n",
    "        sampling_increment = timedelta(seconds=1./sampling_rate)\n",
    "        dt_times = date_range(start=dt_start_naive, periods=len(z3d['data']),\n",
    "                                 freq=sampling_increment, tz=None,\n",
    "                                 normalize=False, name=None, closed=None)\n",
    "\n",
    "        curve_data = z3d['data']\n",
    "        title_str = '{} Station: {:.0f}, '+\\\n",
    "            'Channel {:.0f} ({}), {} to {} Mountain'\n",
    "        title_str = title_str.format(station_type, channel_station,\n",
    "                                     channel, component, dt_start_naive, dt_end_naive)\n",
    "        ts_tools = ['save','pan','xwheel_zoom','box_zoom','undo','reset']\n",
    "        curve = hv.Curve((dt_times, curve_data),label=title_str,\n",
    "                         kdims=['Time'],vdims=['Signal, V']\n",
    "                        )\n",
    "        # dscurve = datashade(curve, cmap=[\"blue\"]).opts(width=800)\n",
    "        # dscurve = datashade(curve,name=title_str).opts(width=800)\n",
    "        dscurve = dynspread(datashade(curve).opts(width=800,height=400,\n",
    "                                                  xformatter=verbose_formatter,\n",
    "                                                  default_tools=ts_tools))\n",
    "        dsfinal=dscurve.opts(plot=dict(finalize_hooks=[no_logo]))\n",
    "    except:\n",
    "        dsfinal=hv.Curve([]).options(xaxis=None, yaxis=None, show_frame=False)\n",
    "    return dsfinal"
   ]
  },
  {
   "cell_type": "code",
   "execution_count": null,
   "metadata": {},
   "outputs": [],
   "source": [
    "class TS(param.Parameterized):\n",
    "    init_filename = '/Users/andymcaliley/SUBTER_Data/BelleCreekMT/BC-RXdata_201810/SUB2191b/2018-10-07/13_44_fielduser_ZEN74/ZenRawData/ZEN74_CH1/Zen074Ch1_20181007-134511_016.z3d'\n",
    "    filename = param.String(default='')\n",
    "    \n",
    "    @param.depends('filename')\n",
    "    def view(self):\n",
    "        dsf = get_ts(self.filename)\n",
    "        return dsf"
   ]
  },
  {
   "cell_type": "code",
   "execution_count": null,
   "metadata": {},
   "outputs": [],
   "source": [
    "def get_file(event):\n",
    "    fn = util.getfile(initialdir=ts.filename,title='Select Z3D file')\n",
    "    if fn != '':\n",
    "        ts.filename = ''\n",
    "        file_text.object = os.path.basename(fn)\n",
    "        ts.filename = fn\n",
    "    #dsf = get_ts(fn)"
   ]
  },
  {
   "cell_type": "code",
   "execution_count": null,
   "metadata": {},
   "outputs": [],
   "source": [
    "ts = TS()\n",
    "file_text = pn.pane.Markdown(os.path.basename(ts.filename))\n",
    "button = pn.widgets.Button(name='Load z3d', button_type='primary',width=100)\n",
    "button.param.watch(get_file, 'clicks')"
   ]
  },
  {
   "cell_type": "code",
   "execution_count": null,
   "metadata": {},
   "outputs": [],
   "source": [
    "pn.Column(pn.Row(button,file_text),ts.view).servable()"
   ]
  },
  {
   "cell_type": "code",
   "execution_count": null,
   "metadata": {},
   "outputs": [],
   "source": []
  }
 ],
 "metadata": {
  "kernelspec": {
   "display_name": "dozen",
   "language": "python",
   "name": "dozen"
  },
  "language_info": {
   "codemirror_mode": {
    "name": "ipython",
    "version": 3
   },
   "file_extension": ".py",
   "mimetype": "text/x-python",
   "name": "python",
   "nbconvert_exporter": "python",
   "pygments_lexer": "ipython3",
   "version": "3.6.10"
  }
 },
 "nbformat": 4,
 "nbformat_minor": 4
}
